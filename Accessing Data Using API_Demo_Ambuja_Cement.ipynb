{
 "cells": [
  {
   "cell_type": "markdown",
   "metadata": {},
   "source": [
    "## Getting data from APIs\n",
    "\n",
    "For this project, I want to demonstrate the power of APIs and specifically as mentioned in the email, how we could automate the registration of learners on Nemis to avoid Wrong student details input by the user.\n",
    "\n",
    "So, besides having a direct database connection with various collaborating organizations i.e MoH, which requires centralization of data in cloud, we could use API. I’m going to get our data from a web server using an API."
   ]
  },
  {
   "cell_type": "code",
   "execution_count": 1,
   "metadata": {
    "id": "dO2CRZWfVwDd"
   },
   "outputs": [],
   "source": [
    "# Import Libraries\n",
    "import pandas as pd\n",
    "import requests\n"
   ]
  },
  {
   "cell_type": "markdown",
   "metadata": {
    "id": "uQkvwan0VzHm"
   },
   "source": [
    "### Accessing APIs Through a URL\n",
    "\n",
    "https://www.health.go.ke/query?function=BIRTH_CERT_DATA &symbol=BCN&apikey=demo\n",
    "\n",
    "Since we Dont have access to MoH Querry or API, \n",
    "I'm going to use  AlphaVantage to get information and, create our my API for a different stock.\n",
    "\n",
    "https://www.alphavantage.co/\n"
   ]
  },
  {
   "cell_type": "markdown",
   "metadata": {
    "id": "922Uzk26WEAa"
   },
   "source": [
    "Using the URL above as a model, I will create a new URL to get the data for Ambuja Cement. The ticker symbol for this company is: \"AMBUJACEM.BSE\" as obtained from ALPHAVANTAGE.COM"
   ]
  },
  {
   "cell_type": "code",
   "execution_count": 2,
   "metadata": {
    "id": "uhZ_3AWcV24O"
   },
   "outputs": [
    {
     "name": "stdout",
     "output_type": "stream",
     "text": [
      "url type: <class 'str'>\n"
     ]
    },
    {
     "data": {
      "text/plain": [
       "'https://www.alphavantage.co/query?function=TIME_SERIES_DAILY&symbol=AMBUJACEM.BSE&apikey=UINBALTLU0E4ZY67'"
      ]
     },
     "execution_count": 2,
     "metadata": {},
     "output_type": "execute_result"
    }
   ],
   "source": [
    "url = (\n",
    "    \"https://www.alphavantage.co/query?\"\n",
    "    \"function=TIME_SERIES_DAILY&\"\n",
    "    \"symbol=AMBUJACEM.BSE&\"\n",
    "    \"apikey=UINBALTLU0E4ZY67\"\n",
    ")\n",
    "\n",
    "print(\"url type:\", type(url))\n",
    "url"
   ]
  },
  {
   "cell_type": "markdown",
   "metadata": {
    "id": "5l0UIPOEWNcT"
   },
   "source": [
    "I created my personal API key with Alphavantage.co\n",
    "\n",
    "\n",
    "an API key is information that should be kept secret, so it's a bad idea to include it in our application code. When it comes to sensitive information like this, developers and data scientists like me store it as an environment variable that's kept in a .env file"
   ]
  },
  {
   "cell_type": "markdown",
   "metadata": {
    "id": "Srqko2TiXJhs"
   },
   "source": [
    "Going through the documentation for the AlphaVantage Time Series Daily API, lets expand our URL to incorporate all the parameters listed in the documentation. Also, to make our URL more dynamic, we are going to create variable names for all the parameters that can be added to the URL."
   ]
  },
  {
   "cell_type": "code",
   "execution_count": 3,
   "metadata": {
    "id": "dqFgN6G-XMpe"
   },
   "outputs": [
    {
     "name": "stdout",
     "output_type": "stream",
     "text": [
      "url type: <class 'str'>\n"
     ]
    },
    {
     "data": {
      "text/plain": [
       "'https://www.alphavantage.co/query?function=TIME_SERIES_DAILY&symbol=AMBUJACEM.BSE&outputsize=Compact&datatype=json&apikey=UINBALTLU0E4ZY67'"
      ]
     },
     "execution_count": 3,
     "metadata": {},
     "output_type": "execute_result"
    }
   ],
   "source": [
    "ticker =\"AMBUJACEM.BSE\"\n",
    "output_size = \"Compact\"\n",
    "data_type = \"json\"\n",
    "\n",
    "url = (\n",
    "       \"https://www.alphavantage.co/query?\"\n",
    "    \"function=TIME_SERIES_DAILY&\"\n",
    "    f\"symbol={ticker}&\"\n",
    "    f\"outputsize={output_size}&\"\n",
    "    f\"datatype={data_type}&\"\n",
    "    f\"apikey=UINBALTLU0E4ZY67\"\n",
    ")\n",
    "\n",
    "\n",
    "print(\"url type:\", type(url))\n",
    "url"
   ]
  },
  {
   "cell_type": "markdown",
   "metadata": {
    "id": "_QmqYwoCXP3d"
   },
   "source": [
    "### Accessing APIs Through a Request\n",
    "We've seen how to access the AlphaVantage API by clicking on a URL, but this won't work for the application we're building in this project because only humans click URLs. Computer programs access APIs by making requests. Let's build our first request using the URL we created in the previous task.\n",
    "\n",
    "Using the requests library to make a get request to the URL you created in the previous task and assigning the response to the variable response."
   ]
  },
  {
   "cell_type": "code",
   "execution_count": 4,
   "metadata": {
    "id": "CL2tFH_6XWIy"
   },
   "outputs": [
    {
     "name": "stdout",
     "output_type": "stream",
     "text": [
      "response type: <class 'requests.models.Response'>\n"
     ]
    }
   ],
   "source": [
    "response = requests.get(url=url)\n",
    "print(\"response type:\", type(response))"
   ]
  },
  {
   "cell_type": "markdown",
   "metadata": {
    "id": "w4aQbVBNXYEX"
   },
   "source": [
    "Using dir command to see what attributes and methods response has."
   ]
  },
  {
   "cell_type": "code",
   "execution_count": 5,
   "metadata": {
    "id": "KAqlSnLaXcbB"
   },
   "outputs": [
    {
     "data": {
      "text/plain": [
       "['__attrs__',\n",
       " '__bool__',\n",
       " '__class__',\n",
       " '__delattr__',\n",
       " '__dict__',\n",
       " '__dir__',\n",
       " '__doc__',\n",
       " '__enter__',\n",
       " '__eq__',\n",
       " '__exit__',\n",
       " '__format__',\n",
       " '__ge__',\n",
       " '__getattribute__',\n",
       " '__getstate__',\n",
       " '__gt__',\n",
       " '__hash__',\n",
       " '__init__',\n",
       " '__init_subclass__',\n",
       " '__iter__',\n",
       " '__le__',\n",
       " '__lt__',\n",
       " '__module__',\n",
       " '__ne__',\n",
       " '__new__',\n",
       " '__nonzero__',\n",
       " '__reduce__',\n",
       " '__reduce_ex__',\n",
       " '__repr__',\n",
       " '__setattr__',\n",
       " '__setstate__',\n",
       " '__sizeof__',\n",
       " '__str__',\n",
       " '__subclasshook__',\n",
       " '__weakref__',\n",
       " '_content',\n",
       " '_content_consumed',\n",
       " '_next',\n",
       " 'apparent_encoding',\n",
       " 'close',\n",
       " 'connection',\n",
       " 'content',\n",
       " 'cookies',\n",
       " 'elapsed',\n",
       " 'encoding',\n",
       " 'headers',\n",
       " 'history',\n",
       " 'is_permanent_redirect',\n",
       " 'is_redirect',\n",
       " 'iter_content',\n",
       " 'iter_lines',\n",
       " 'json',\n",
       " 'links',\n",
       " 'next',\n",
       " 'ok',\n",
       " 'raise_for_status',\n",
       " 'raw',\n",
       " 'reason',\n",
       " 'request',\n",
       " 'status_code',\n",
       " 'text',\n",
       " 'url']"
      ]
     },
     "execution_count": 5,
     "metadata": {},
     "output_type": "execute_result"
    }
   ],
   "source": [
    "# Use `dir` on your `response`\n",
    "dir(response)"
   ]
  },
  {
   "cell_type": "markdown",
   "metadata": {
    "id": "nEXnnDBYXehQ"
   },
   "source": [
    "dir returns a list, and, as you can see, there are lots of possibilities here! For now, let's focus on two attributes: status_code and text.\n",
    "\n",
    "We'll start with status_code. Every time you make a call to a URL, the response includes an HTTP status code which can be accessed with the status_code method. Let's see what ours is.\n",
    "Focusing on the attributes \"status_code\" and \"text\" typically relates to working with HTTP responses in the context of web development or API interactions. These attributes are commonly used to handle and process the results of HTTP requests.\n",
    "\n",
    "status_code: This attribute represents the HTTP status code that the server returns in response to a client's request. HTTP status codes indicate the outcome of the request. They are three-digit numbers that provide information about whether the request was successful, encountered an error, or requires further action. Some common status codes include 200 (OK), 404 (Not Found), 500 (Internal Server Error), etc. Developers use status codes to determine the appropriate action to take based on the outcome of the request. For example, a 200 status code typically indicates success, while a 404 code suggests that the requested resource was not found.\n",
    "\n",
    "text: In the context of HTTP responses, the \"text\" attribute usually refers to the response body or content returned by the server. After making an HTTP request, the server's response often includes data in the response body, which could be in various formats such as plain text, HTML, JSON, XML, etc. Developers often extract and process this response text to extract relevant information, display it to users, or use it for further processing within their applications.\n",
    "\n",
    "\n",
    "Therefore, lets assign the status code for our response to the variable response_code."
   ]
  },
  {
   "cell_type": "code",
   "execution_count": 5,
   "metadata": {
    "id": "OWHkzWU1Xkum"
   },
   "outputs": [
    {
     "name": "stdout",
     "output_type": "stream",
     "text": [
      "code type: <class 'int'>\n"
     ]
    },
    {
     "data": {
      "text/plain": [
       "200"
      ]
     },
     "execution_count": 5,
     "metadata": {},
     "output_type": "execute_result"
    }
   ],
   "source": [
    "response_code = response.status_code\n",
    "\n",
    "print(\"code type:\", type(response_code))\n",
    "response_code"
   ]
  },
  {
   "cell_type": "markdown",
   "metadata": {
    "id": "K6OfWKysXnIN"
   },
   "source": [
    "Translated to English, 200 means \"OK\". It's the standard response for a successful HTTP request. In other words, it worked! We successfully received data back from the AlphaVantage API.\n",
    "\n",
    "Now let's take a look at the text.\n",
    "\n",
    "Assign the test for your response to the variable response_text."
   ]
  },
  {
   "cell_type": "code",
   "execution_count": 7,
   "metadata": {
    "id": "SeInPaRgXtZX"
   },
   "outputs": [
    {
     "name": "stdout",
     "output_type": "stream",
     "text": [
      "response_text type: <class 'str'>\n",
      "{\n",
      "    \"Meta Data\": {\n",
      "        \"1. Information\": \"Daily Prices (open, high, low, close) and Volumes\",\n",
      "        \"2. Symbol\": \"AMBUJACEM.BSE\",\n",
      "        \"3. Last Refreshed\": \"2023-08-11\",\n",
      "        \"4. Output \n"
     ]
    }
   ],
   "source": [
    "response_text = response.text\n",
    "\n",
    "print(\"response_text type:\", type(response_text))\n",
    "print(response_text[:200])"
   ]
  },
  {
   "cell_type": "markdown",
   "metadata": {
    "id": "K6e1dly-XxCY"
   },
   "source": [
    "Lets use json method to access a dictionary version of the data. Assigning it to the variable name response_data"
   ]
  },
  {
   "cell_type": "code",
   "execution_count": 14,
   "metadata": {
    "id": "CUWid4qqXzn4"
   },
   "outputs": [
    {
     "name": "stdout",
     "output_type": "stream",
     "text": [
      "response_data type: <class 'dict'>\n"
     ]
    }
   ],
   "source": [
    "response_data = response.json()\n",
    "\n",
    "print(\"response_data type:\", type(response_data))"
   ]
  },
  {
   "cell_type": "markdown",
   "metadata": {
    "id": "ss9DqSvxX1aI"
   },
   "source": [
    "lets see if the keys corresponds to what we expected. Print the keys of response_data. Are they what we expected?"
   ]
  },
  {
   "cell_type": "code",
   "execution_count": 15,
   "metadata": {
    "id": "SlPkCv5VX3z6"
   },
   "outputs": [
    {
     "data": {
      "text/plain": [
       "dict_keys(['Meta Data', 'Time Series (Daily)'])"
      ]
     },
     "execution_count": 15,
     "metadata": {},
     "output_type": "execute_result"
    }
   ],
   "source": [
    "# Print `response_data` keys\n",
    "response_data.keys()"
   ]
  },
  {
   "cell_type": "markdown",
   "metadata": {
    "id": "7UHkAkX5X-zR"
   },
   "source": [
    "Now let's look at data that's assigned to the \"Time Series (Daily)\" key.\n",
    "\n",
    "Assigning the value for the \"Time Series (Daily)\" key to the variable stock_data. Then examinining the data for one of the days in stock_data."
   ]
  },
  {
   "cell_type": "code",
   "execution_count": 22,
   "metadata": {
    "id": "beVMYd8vX_WL"
   },
   "outputs": [
    {
     "name": "stdout",
     "output_type": "stream",
     "text": [
      "stock_data type: <class 'dict'>\n"
     ]
    },
    {
     "data": {
      "text/plain": [
       "{'1. open': '437.0000',\n",
       " '2. high': '446.8000',\n",
       " '3. low': '433.9000',\n",
       " '4. close': '445.7000',\n",
       " '5. volume': '159490'}"
      ]
     },
     "execution_count": 22,
     "metadata": {},
     "output_type": "execute_result"
    }
   ],
   "source": [
    "# Extract `\"Time Series (Daily)\"` value from `response_data`\n",
    "stock_data = response_data[\"Time Series (Daily)\"]\n",
    "\n",
    "print(\"stock_data type:\", type(stock_data))\n",
    "\n",
    "# Extract data for one of the days in `stock_data`\n",
    "\n",
    "stock_data['2023-08-17']"
   ]
  },
  {
   "cell_type": "markdown",
   "metadata": {
    "id": "dutP7e2nYBHC"
   },
   "source": [
    "ow that we know how the data is organized when we extract it from the API, let's transform it into a DataFrame to make it more manageable.\n",
    "\n",
    "VimeoVideo(\"762464686\", h=\"bbe7285343\", width=600)\n",
    "Task 8.1.13: Read the data from stock_data into a DataFrame named df_ambuja. Be sure all your data types are correct!"
   ]
  },
  {
   "cell_type": "code",
   "execution_count": 11,
   "metadata": {
    "id": "n1c3LrDpYDiS"
   },
   "outputs": [
    {
     "name": "stdout",
     "output_type": "stream",
     "text": [
      "df_ambuja shape: (100, 5)\n",
      "\n",
      "<class 'pandas.core.frame.DataFrame'>\n",
      "Index: 100 entries, 2023-08-11 to 2023-03-17\n",
      "Data columns (total 5 columns):\n",
      " #   Column     Non-Null Count  Dtype  \n",
      "---  ------     --------------  -----  \n",
      " 0   1. open    100 non-null    float64\n",
      " 1   2. high    100 non-null    float64\n",
      " 2   3. low     100 non-null    float64\n",
      " 3   4. close   100 non-null    float64\n",
      " 4   5. volume  100 non-null    float64\n",
      "dtypes: float64(5)\n",
      "memory usage: 4.7+ KB\n",
      "None\n"
     ]
    },
    {
     "data": {
      "text/html": [
       "<div>\n",
       "<style scoped>\n",
       "    .dataframe tbody tr th:only-of-type {\n",
       "        vertical-align: middle;\n",
       "    }\n",
       "\n",
       "    .dataframe tbody tr th {\n",
       "        vertical-align: top;\n",
       "    }\n",
       "\n",
       "    .dataframe thead th {\n",
       "        text-align: right;\n",
       "    }\n",
       "</style>\n",
       "<table border=\"1\" class=\"dataframe\">\n",
       "  <thead>\n",
       "    <tr style=\"text-align: right;\">\n",
       "      <th></th>\n",
       "      <th>1. open</th>\n",
       "      <th>2. high</th>\n",
       "      <th>3. low</th>\n",
       "      <th>4. close</th>\n",
       "      <th>5. volume</th>\n",
       "    </tr>\n",
       "  </thead>\n",
       "  <tbody>\n",
       "    <tr>\n",
       "      <th>2023-08-11</th>\n",
       "      <td>456.85</td>\n",
       "      <td>463.40</td>\n",
       "      <td>454.05</td>\n",
       "      <td>456.50</td>\n",
       "      <td>83491.0</td>\n",
       "    </tr>\n",
       "    <tr>\n",
       "      <th>2023-08-10</th>\n",
       "      <td>462.05</td>\n",
       "      <td>465.85</td>\n",
       "      <td>454.85</td>\n",
       "      <td>456.85</td>\n",
       "      <td>199093.0</td>\n",
       "    </tr>\n",
       "    <tr>\n",
       "      <th>2023-08-09</th>\n",
       "      <td>464.25</td>\n",
       "      <td>466.65</td>\n",
       "      <td>460.70</td>\n",
       "      <td>462.90</td>\n",
       "      <td>60893.0</td>\n",
       "    </tr>\n",
       "    <tr>\n",
       "      <th>2023-08-08</th>\n",
       "      <td>473.05</td>\n",
       "      <td>476.00</td>\n",
       "      <td>456.55</td>\n",
       "      <td>466.00</td>\n",
       "      <td>163483.0</td>\n",
       "    </tr>\n",
       "    <tr>\n",
       "      <th>2023-08-07</th>\n",
       "      <td>472.25</td>\n",
       "      <td>476.00</td>\n",
       "      <td>468.85</td>\n",
       "      <td>474.00</td>\n",
       "      <td>80191.0</td>\n",
       "    </tr>\n",
       "    <tr>\n",
       "      <th>2023-08-04</th>\n",
       "      <td>474.25</td>\n",
       "      <td>477.35</td>\n",
       "      <td>470.40</td>\n",
       "      <td>471.60</td>\n",
       "      <td>115736.0</td>\n",
       "    </tr>\n",
       "    <tr>\n",
       "      <th>2023-08-03</th>\n",
       "      <td>464.25</td>\n",
       "      <td>480.90</td>\n",
       "      <td>458.60</td>\n",
       "      <td>474.20</td>\n",
       "      <td>787931.0</td>\n",
       "    </tr>\n",
       "    <tr>\n",
       "      <th>2023-08-02</th>\n",
       "      <td>460.65</td>\n",
       "      <td>469.00</td>\n",
       "      <td>449.70</td>\n",
       "      <td>460.95</td>\n",
       "      <td>451281.0</td>\n",
       "    </tr>\n",
       "    <tr>\n",
       "      <th>2023-08-01</th>\n",
       "      <td>463.30</td>\n",
       "      <td>468.00</td>\n",
       "      <td>452.65</td>\n",
       "      <td>461.60</td>\n",
       "      <td>125907.0</td>\n",
       "    </tr>\n",
       "    <tr>\n",
       "      <th>2023-07-31</th>\n",
       "      <td>454.05</td>\n",
       "      <td>468.60</td>\n",
       "      <td>454.05</td>\n",
       "      <td>462.75</td>\n",
       "      <td>186688.0</td>\n",
       "    </tr>\n",
       "  </tbody>\n",
       "</table>\n",
       "</div>"
      ],
      "text/plain": [
       "            1. open  2. high  3. low  4. close  5. volume\n",
       "2023-08-11   456.85   463.40  454.05    456.50    83491.0\n",
       "2023-08-10   462.05   465.85  454.85    456.85   199093.0\n",
       "2023-08-09   464.25   466.65  460.70    462.90    60893.0\n",
       "2023-08-08   473.05   476.00  456.55    466.00   163483.0\n",
       "2023-08-07   472.25   476.00  468.85    474.00    80191.0\n",
       "2023-08-04   474.25   477.35  470.40    471.60   115736.0\n",
       "2023-08-03   464.25   480.90  458.60    474.20   787931.0\n",
       "2023-08-02   460.65   469.00  449.70    460.95   451281.0\n",
       "2023-08-01   463.30   468.00  452.65    461.60   125907.0\n",
       "2023-07-31   454.05   468.60  454.05    462.75   186688.0"
      ]
     },
     "execution_count": 11,
     "metadata": {},
     "output_type": "execute_result"
    }
   ],
   "source": [
    "df_ambuja = pd.DataFrame.from_dict(stock_data, orient=\"index\", dtype=float)` \n",
    "\n",
    "print(\"df_ambuja shape:\", df_ambuja.shape)\n",
    "print()\n",
    "print(df_ambuja.info())\n",
    "df_ambuja.head(10)"
   ]
  },
  {
   "cell_type": "markdown",
   "metadata": {
    "id": "LmORX6J1YFiK"
   },
   "source": [
    "Did you notice that the index for df_ambuja doesn't have an entry for all days? Given that this is stock market data, why do you think that is?\n",
    "\n",
    "All in all, this looks pretty good, but there are a couple of problems: the data type of the dates, and the format of the headers. Let's fix the dates first. Right now, the dates are strings; in order to make the rest of our code work, we'll need to create a proper DatetimeIndex.\n",
    "\n",
    "VimeoVideo(\"762464725\", h=\"4408b613a1\", width=600)\n",
    "\n",
    "Task 8.1.14: Transform the index of df_ambuja into a DatetimeIndex with the name \"date\""
   ]
  },
  {
   "cell_type": "code",
   "execution_count": 12,
   "metadata": {
    "id": "5pRf8NBhYI0K"
   },
   "outputs": [
    {
     "name": "stdout",
     "output_type": "stream",
     "text": [
      "<class 'pandas.core.frame.DataFrame'>\n",
      "DatetimeIndex: 100 entries, 2023-08-11 to 2023-03-17\n",
      "Data columns (total 5 columns):\n",
      " #   Column     Non-Null Count  Dtype  \n",
      "---  ------     --------------  -----  \n",
      " 0   1. open    100 non-null    float64\n",
      " 1   2. high    100 non-null    float64\n",
      " 2   3. low     100 non-null    float64\n",
      " 3   4. close   100 non-null    float64\n",
      " 4   5. volume  100 non-null    float64\n",
      "dtypes: float64(5)\n",
      "memory usage: 4.7 KB\n",
      "None\n"
     ]
    },
    {
     "data": {
      "text/html": [
       "<div>\n",
       "<style scoped>\n",
       "    .dataframe tbody tr th:only-of-type {\n",
       "        vertical-align: middle;\n",
       "    }\n",
       "\n",
       "    .dataframe tbody tr th {\n",
       "        vertical-align: top;\n",
       "    }\n",
       "\n",
       "    .dataframe thead th {\n",
       "        text-align: right;\n",
       "    }\n",
       "</style>\n",
       "<table border=\"1\" class=\"dataframe\">\n",
       "  <thead>\n",
       "    <tr style=\"text-align: right;\">\n",
       "      <th></th>\n",
       "      <th>1. open</th>\n",
       "      <th>2. high</th>\n",
       "      <th>3. low</th>\n",
       "      <th>4. close</th>\n",
       "      <th>5. volume</th>\n",
       "    </tr>\n",
       "    <tr>\n",
       "      <th>date</th>\n",
       "      <th></th>\n",
       "      <th></th>\n",
       "      <th></th>\n",
       "      <th></th>\n",
       "      <th></th>\n",
       "    </tr>\n",
       "  </thead>\n",
       "  <tbody>\n",
       "    <tr>\n",
       "      <th>2023-08-11</th>\n",
       "      <td>456.85</td>\n",
       "      <td>463.40</td>\n",
       "      <td>454.05</td>\n",
       "      <td>456.50</td>\n",
       "      <td>83491.0</td>\n",
       "    </tr>\n",
       "    <tr>\n",
       "      <th>2023-08-10</th>\n",
       "      <td>462.05</td>\n",
       "      <td>465.85</td>\n",
       "      <td>454.85</td>\n",
       "      <td>456.85</td>\n",
       "      <td>199093.0</td>\n",
       "    </tr>\n",
       "    <tr>\n",
       "      <th>2023-08-09</th>\n",
       "      <td>464.25</td>\n",
       "      <td>466.65</td>\n",
       "      <td>460.70</td>\n",
       "      <td>462.90</td>\n",
       "      <td>60893.0</td>\n",
       "    </tr>\n",
       "    <tr>\n",
       "      <th>2023-08-08</th>\n",
       "      <td>473.05</td>\n",
       "      <td>476.00</td>\n",
       "      <td>456.55</td>\n",
       "      <td>466.00</td>\n",
       "      <td>163483.0</td>\n",
       "    </tr>\n",
       "    <tr>\n",
       "      <th>2023-08-07</th>\n",
       "      <td>472.25</td>\n",
       "      <td>476.00</td>\n",
       "      <td>468.85</td>\n",
       "      <td>474.00</td>\n",
       "      <td>80191.0</td>\n",
       "    </tr>\n",
       "  </tbody>\n",
       "</table>\n",
       "</div>"
      ],
      "text/plain": [
       "            1. open  2. high  3. low  4. close  5. volume\n",
       "date                                                     \n",
       "2023-08-11   456.85   463.40  454.05    456.50    83491.0\n",
       "2023-08-10   462.05   465.85  454.85    456.85   199093.0\n",
       "2023-08-09   464.25   466.65  460.70    462.90    60893.0\n",
       "2023-08-08   473.05   476.00  456.55    466.00   163483.0\n",
       "2023-08-07   472.25   476.00  468.85    474.00    80191.0"
      ]
     },
     "execution_count": 12,
     "metadata": {},
     "output_type": "execute_result"
    }
   ],
   "source": [
    "# Convert `df_ambuja` index to `DatetimeIndex`\n",
    "df_ambuja.index=pd.to_datetime(df_ambuja.index)\n",
    "\n",
    "# Name index \"date\"\n",
    "df_ambuja.index.name=\"date\"\n",
    "\n",
    "print(df_ambuja.info())\n",
    "df_ambuja.head()"
   ]
  },
  {
   "cell_type": "markdown",
   "metadata": {
    "id": "dtHUi6liYMQi"
   },
   "source": [
    "Note that the rows in df_ambuja are sorted descending, with the most recent date at the top. This will work to our advantage when we store and retrieve the data from our application database, but we'll need to sort it ascending before we can use it to train a model.\n",
    "\n",
    "Okay! Now that the dates are fixed, lets deal with the headers. There isn't really anything wrong with them, but those numbers make them look a little unfinished. Let's get rid of them.\n",
    "\n",
    "VimeoVideo(\"762464753\", h=\"5563b3ca4f\", width=600)\n",
    "\n",
    "Task 8.1.15: Remove the numbering from the column names for df_ambuja."
   ]
  },
  {
   "cell_type": "code",
   "execution_count": 13,
   "metadata": {
    "id": "fXqex-c8YQLY"
   },
   "outputs": [
    {
     "name": "stdout",
     "output_type": "stream",
     "text": [
      "<class 'pandas.core.frame.DataFrame'>\n",
      "DatetimeIndex: 100 entries, 2023-08-11 to 2023-03-17\n",
      "Data columns (total 5 columns):\n",
      " #   Column  Non-Null Count  Dtype  \n",
      "---  ------  --------------  -----  \n",
      " 0   open    100 non-null    float64\n",
      " 1   high    100 non-null    float64\n",
      " 2   low     100 non-null    float64\n",
      " 3   close   100 non-null    float64\n",
      " 4   volume  100 non-null    float64\n",
      "dtypes: float64(5)\n",
      "memory usage: 4.7 KB\n",
      "None\n"
     ]
    },
    {
     "data": {
      "text/html": [
       "<div>\n",
       "<style scoped>\n",
       "    .dataframe tbody tr th:only-of-type {\n",
       "        vertical-align: middle;\n",
       "    }\n",
       "\n",
       "    .dataframe tbody tr th {\n",
       "        vertical-align: top;\n",
       "    }\n",
       "\n",
       "    .dataframe thead th {\n",
       "        text-align: right;\n",
       "    }\n",
       "</style>\n",
       "<table border=\"1\" class=\"dataframe\">\n",
       "  <thead>\n",
       "    <tr style=\"text-align: right;\">\n",
       "      <th></th>\n",
       "      <th>open</th>\n",
       "      <th>high</th>\n",
       "      <th>low</th>\n",
       "      <th>close</th>\n",
       "      <th>volume</th>\n",
       "    </tr>\n",
       "    <tr>\n",
       "      <th>date</th>\n",
       "      <th></th>\n",
       "      <th></th>\n",
       "      <th></th>\n",
       "      <th></th>\n",
       "      <th></th>\n",
       "    </tr>\n",
       "  </thead>\n",
       "  <tbody>\n",
       "    <tr>\n",
       "      <th>2023-08-11</th>\n",
       "      <td>456.85</td>\n",
       "      <td>463.40</td>\n",
       "      <td>454.05</td>\n",
       "      <td>456.50</td>\n",
       "      <td>83491.0</td>\n",
       "    </tr>\n",
       "    <tr>\n",
       "      <th>2023-08-10</th>\n",
       "      <td>462.05</td>\n",
       "      <td>465.85</td>\n",
       "      <td>454.85</td>\n",
       "      <td>456.85</td>\n",
       "      <td>199093.0</td>\n",
       "    </tr>\n",
       "    <tr>\n",
       "      <th>2023-08-09</th>\n",
       "      <td>464.25</td>\n",
       "      <td>466.65</td>\n",
       "      <td>460.70</td>\n",
       "      <td>462.90</td>\n",
       "      <td>60893.0</td>\n",
       "    </tr>\n",
       "    <tr>\n",
       "      <th>2023-08-08</th>\n",
       "      <td>473.05</td>\n",
       "      <td>476.00</td>\n",
       "      <td>456.55</td>\n",
       "      <td>466.00</td>\n",
       "      <td>163483.0</td>\n",
       "    </tr>\n",
       "    <tr>\n",
       "      <th>2023-08-07</th>\n",
       "      <td>472.25</td>\n",
       "      <td>476.00</td>\n",
       "      <td>468.85</td>\n",
       "      <td>474.00</td>\n",
       "      <td>80191.0</td>\n",
       "    </tr>\n",
       "  </tbody>\n",
       "</table>\n",
       "</div>"
      ],
      "text/plain": [
       "              open    high     low   close    volume\n",
       "date                                                \n",
       "2023-08-11  456.85  463.40  454.05  456.50   83491.0\n",
       "2023-08-10  462.05  465.85  454.85  456.85  199093.0\n",
       "2023-08-09  464.25  466.65  460.70  462.90   60893.0\n",
       "2023-08-08  473.05  476.00  456.55  466.00  163483.0\n",
       "2023-08-07  472.25  476.00  468.85  474.00   80191.0"
      ]
     },
     "execution_count": 13,
     "metadata": {},
     "output_type": "execute_result"
    }
   ],
   "source": [
    "# Remove numbering from `df_ambuja` column names\n",
    "df_ambuja.columns = [c.split(\". \")[1] for c in df_ambuja.columns]\n",
    "\n",
    "print(df_ambuja.info())\n",
    "df_ambuja.head()"
   ]
  },
  {
   "cell_type": "markdown",
   "metadata": {
    "id": "ydgJnkVjYSqY"
   },
   "source": [
    "Defensive Programming\n",
    "Defensive programming is the practice of writing code which will continue to function, even if something goes wrong. We'll never be able to foresee all the problems people might run into with our code, but we can take steps to make sure things don't fall apart whenever one of those problems happens.\n",
    "\n",
    "So far, we've made API requests where everything works. But coding errors and problems with servers are common, and they can cause big issues in a data science project. Let's see how our response changes when we introduce common bugs in our code.\n",
    "\n",
    "VimeoVideo(\"762464781\", h=\"d7dcf16d18\", width=600)\n",
    "\n",
    "Task 8.1.16: Return to Task 8.1.5 and change the first part of your URL. Instead of \"query\", use \"search\" (a path that doesn't exist). Then rerun your code for all the tasks that follow. What changes? What stays the same?\n",
    "\n",
    "We know what happens when we try to access a bad address. But what about when we access the right path with a bad ticker symbol?\n",
    "\n",
    "VimeoVideo(\"762464811\", h=\"84ff4d2518\", width=600)\n",
    "\n",
    "Task 8.1.17: Return to Task 8.1.5 and change the ticker symbol from \"AMBUJACEM.BSE\" to \"RAMBUJACEM.BSE\" (a company that doesn't exist). Then rerun your code for all the tasks that follow. Again, take note of what changes and what stays the same.\n",
    "\n",
    "Let's formalize our extraction and transformation process for the AlphaVantage API into a reproducible function.\n",
    "\n",
    "VimeoVideo(\"762464843\", h=\"858c9e1388\", width=600)\n",
    "\n",
    "Task 8.1.18: Build a get_daily function that gets data from the AlphaVantage API and returns a clean DataFrame. Use the docstring as guidance. When you're satisfied with the result, submit your work to the grader."
   ]
  },
  {
   "cell_type": "code",
   "execution_count": 14,
   "metadata": {
    "id": "jnQM5AGKYcAY"
   },
   "outputs": [],
   "source": [
    "def get_daily(ticker, output_size=\"full\"):\n",
    "\n",
    "    \"\"\"Get daily time series of an equity from AlphaVantage API.\n",
    "\n",
    "    Parameters\n",
    "    ----------\n",
    "    ticker : str\n",
    "        The ticker symbol of the equity.\n",
    "    output_size : str, optional\n",
    "        Number of observations to retrieve. \"compact\" returns the\n",
    "        latest 100 observations. \"full\" returns all observations for\n",
    "        equity. By default \"full\".\n",
    "\n",
    "    Returns\n",
    "    -------\n",
    "    pd.DataFrame\n",
    "        Columns are 'open', 'high', 'low', 'close', and 'volume'.\n",
    "        All are numeric.\n",
    "    \"\"\"\n",
    "    # Create URL (8.1.5)\n",
    "    url = (\n",
    "       \"https://www.alphavantage.co/query?\"\n",
    "        \"function=TIME_SERIES_DAILY&\"\n",
    "        f\"symbol={ticker}&\"\n",
    "        f\"outputsize={output_size}&\"\n",
    "        f\"datatype=json&\"\n",
    "        f\"apikey=UINBALTLU0E4ZY67\"\n",
    "    )\n",
    "\n",
    "\n",
    "\n",
    "\n",
    "    # Send request to API (8.1.6)\n",
    "    response = requests.get(url=url)\n",
    "\n",
    "    # Extract JSON data from response (8.1.10)\n",
    "    response_data = response.json()\n",
    "    if \"Time Series (Daily)\" not in response_data.keys():\n",
    "        raise Exception(\n",
    "            f\"Invalid API call. Check the ticker symbol'{ticker}' is correct.\"\n",
    "        )\n",
    "    # Read data into DataFrame (8.1.12 & 8.1.13)\n",
    "    stock_data = response_data[\"Time Series (Daily)\"]\n",
    "    df= pd.DataFrame.from_dict(stock_data, orient=\"index\", dtype=float)\n",
    "\n",
    "    # Convert index to `DatetimeIndex` named \"date\" (8.1.14)\n",
    "    df.index=pd.to_datetime(df.index)\n",
    "    df.index.name=\"date\"\n",
    "\n",
    "    # Remove numbering from columns (8.1.15)\n",
    "    df.columns = [c.split(\". \")[1] for c in df.columns]\n",
    "\n",
    "    # Return DataFrame\n",
    "    return df"
   ]
  },
  {
   "cell_type": "code",
   "execution_count": 15,
   "metadata": {
    "id": "EOKBBnk7Yggo"
   },
   "outputs": [
    {
     "name": "stdout",
     "output_type": "stream",
     "text": [
      "<class 'pandas.core.frame.DataFrame'>\n",
      "DatetimeIndex: 100 entries, 2023-08-11 to 2023-03-17\n",
      "Data columns (total 5 columns):\n",
      " #   Column  Non-Null Count  Dtype  \n",
      "---  ------  --------------  -----  \n",
      " 0   open    100 non-null    float64\n",
      " 1   high    100 non-null    float64\n",
      " 2   low     100 non-null    float64\n",
      " 3   close   100 non-null    float64\n",
      " 4   volume  100 non-null    float64\n",
      "dtypes: float64(5)\n",
      "memory usage: 4.7 KB\n",
      "None\n"
     ]
    },
    {
     "data": {
      "text/html": [
       "<div>\n",
       "<style scoped>\n",
       "    .dataframe tbody tr th:only-of-type {\n",
       "        vertical-align: middle;\n",
       "    }\n",
       "\n",
       "    .dataframe tbody tr th {\n",
       "        vertical-align: top;\n",
       "    }\n",
       "\n",
       "    .dataframe thead th {\n",
       "        text-align: right;\n",
       "    }\n",
       "</style>\n",
       "<table border=\"1\" class=\"dataframe\">\n",
       "  <thead>\n",
       "    <tr style=\"text-align: right;\">\n",
       "      <th></th>\n",
       "      <th>open</th>\n",
       "      <th>high</th>\n",
       "      <th>low</th>\n",
       "      <th>close</th>\n",
       "      <th>volume</th>\n",
       "    </tr>\n",
       "    <tr>\n",
       "      <th>date</th>\n",
       "      <th></th>\n",
       "      <th></th>\n",
       "      <th></th>\n",
       "      <th></th>\n",
       "      <th></th>\n",
       "    </tr>\n",
       "  </thead>\n",
       "  <tbody>\n",
       "    <tr>\n",
       "      <th>2023-08-11</th>\n",
       "      <td>456.85</td>\n",
       "      <td>463.40</td>\n",
       "      <td>454.05</td>\n",
       "      <td>456.50</td>\n",
       "      <td>83491.0</td>\n",
       "    </tr>\n",
       "    <tr>\n",
       "      <th>2023-08-10</th>\n",
       "      <td>462.05</td>\n",
       "      <td>465.85</td>\n",
       "      <td>454.85</td>\n",
       "      <td>456.85</td>\n",
       "      <td>199093.0</td>\n",
       "    </tr>\n",
       "    <tr>\n",
       "      <th>2023-08-09</th>\n",
       "      <td>464.25</td>\n",
       "      <td>466.65</td>\n",
       "      <td>460.70</td>\n",
       "      <td>462.90</td>\n",
       "      <td>60893.0</td>\n",
       "    </tr>\n",
       "    <tr>\n",
       "      <th>2023-08-08</th>\n",
       "      <td>473.05</td>\n",
       "      <td>476.00</td>\n",
       "      <td>456.55</td>\n",
       "      <td>466.00</td>\n",
       "      <td>163483.0</td>\n",
       "    </tr>\n",
       "    <tr>\n",
       "      <th>2023-08-07</th>\n",
       "      <td>472.25</td>\n",
       "      <td>476.00</td>\n",
       "      <td>468.85</td>\n",
       "      <td>474.00</td>\n",
       "      <td>80191.0</td>\n",
       "    </tr>\n",
       "  </tbody>\n",
       "</table>\n",
       "</div>"
      ],
      "text/plain": [
       "              open    high     low   close    volume\n",
       "date                                                \n",
       "2023-08-11  456.85  463.40  454.05  456.50   83491.0\n",
       "2023-08-10  462.05  465.85  454.85  456.85  199093.0\n",
       "2023-08-09  464.25  466.65  460.70  462.90   60893.0\n",
       "2023-08-08  473.05  476.00  456.55  466.00  163483.0\n",
       "2023-08-07  472.25  476.00  468.85  474.00   80191.0"
      ]
     },
     "execution_count": 15,
     "metadata": {},
     "output_type": "execute_result"
    }
   ],
   "source": [
    "# Test your function\n",
    "df_ambuja = get_daily(ticker=\"AMBUJACEM.BSE\", output_size=\"compact\")\n",
    "\n",
    "print(df_ambuja.info())\n",
    "df_ambuja.head()"
   ]
  },
  {
   "cell_type": "markdown",
   "metadata": {
    "id": "lDgO9mlnYhaY"
   },
   "source": [
    "How does this function deal with the two bugs we've explored in this section? Our first error, a bad URL, is something we don't need to worry about. No matter what the user inputs into this function, the URL will always be correct. But see what happens when the user inputs a bad ticker symbol. What's the error message? Would it help the user locate their mistake?\n",
    "\n",
    "VimeoVideo(\"762464894\", h=\"6ed1dbb9c4\", width=600)\n",
    "\n",
    "Task 8.1.19: Add an if clause to your get_daily function so that it throws an Exception when a user supplies a bad ticker symbol. Be sure the error message is informative."
   ]
  },
  {
   "cell_type": "code",
   "execution_count": 16,
   "metadata": {
    "id": "A-sPWD_nYpGx"
   },
   "outputs": [
    {
     "ename": "Exception",
     "evalue": "Invalid API call. Check the ticker symbol'ABUJACEM.BSE' is correct.",
     "output_type": "error",
     "traceback": [
      "\u001b[1;31m---------------------------------------------------------------------------\u001b[0m",
      "\u001b[1;31mException\u001b[0m                                 Traceback (most recent call last)",
      "Cell \u001b[1;32mIn[16], line 2\u001b[0m\n\u001b[0;32m      1\u001b[0m \u001b[39m# Test your Exception\u001b[39;00m\n\u001b[1;32m----> 2\u001b[0m df_test \u001b[39m=\u001b[39m get_daily(ticker\u001b[39m=\u001b[39;49m\u001b[39m\"\u001b[39;49m\u001b[39mABUJACEM.BSE\u001b[39;49m\u001b[39m\"\u001b[39;49m)\n",
      "Cell \u001b[1;32mIn[14], line 39\u001b[0m, in \u001b[0;36mget_daily\u001b[1;34m(ticker, output_size)\u001b[0m\n\u001b[0;32m     37\u001b[0m response_data \u001b[39m=\u001b[39m response\u001b[39m.\u001b[39mjson()\n\u001b[0;32m     38\u001b[0m \u001b[39mif\u001b[39;00m \u001b[39m\"\u001b[39m\u001b[39mTime Series (Daily)\u001b[39m\u001b[39m\"\u001b[39m \u001b[39mnot\u001b[39;00m \u001b[39min\u001b[39;00m response_data\u001b[39m.\u001b[39mkeys():\n\u001b[1;32m---> 39\u001b[0m     \u001b[39mraise\u001b[39;00m \u001b[39mException\u001b[39;00m(\n\u001b[0;32m     40\u001b[0m         \u001b[39mf\u001b[39m\u001b[39m\"\u001b[39m\u001b[39mInvalid API call. Check the ticker symbol\u001b[39m\u001b[39m'\u001b[39m\u001b[39m{\u001b[39;00mticker\u001b[39m}\u001b[39;00m\u001b[39m'\u001b[39m\u001b[39m is correct.\u001b[39m\u001b[39m\"\u001b[39m\n\u001b[0;32m     41\u001b[0m     )\n\u001b[0;32m     42\u001b[0m \u001b[39m# Read data into DataFrame (8.1.12 & 8.1.13)\u001b[39;00m\n\u001b[0;32m     43\u001b[0m stock_data \u001b[39m=\u001b[39m response_data[\u001b[39m\"\u001b[39m\u001b[39mTime Series (Daily)\u001b[39m\u001b[39m\"\u001b[39m]\n",
      "\u001b[1;31mException\u001b[0m: Invalid API call. Check the ticker symbol'ABUJACEM.BSE' is correct."
     ]
    }
   ],
   "source": [
    "# Test your Exception\n",
    "df_test = get_daily(ticker=\"ABUJACEM.BSE\")"
   ]
  },
  {
   "cell_type": "markdown",
   "metadata": {
    "id": "FCaEkNBwYsEa"
   },
   "source": [
    "Alright! We now have all the tools we need to get the data for our project. In the next lesson, we'll make our AlphaVantage code more reusable by creating a data module with class definitions. We'll also create the code we need to store and read this data from our application database."
   ]
  }
 ],
 "metadata": {
  "colab": {
   "provenance": []
  },
  "kernelspec": {
   "display_name": "Python 3 (ipykernel)",
   "language": "python",
   "name": "python3"
  },
  "language_info": {
   "codemirror_mode": {
    "name": "ipython",
    "version": 3
   },
   "file_extension": ".py",
   "mimetype": "text/x-python",
   "name": "python",
   "nbconvert_exporter": "python",
   "pygments_lexer": "ipython3",
   "version": "3.10.9"
  }
 },
 "nbformat": 4,
 "nbformat_minor": 4
}
