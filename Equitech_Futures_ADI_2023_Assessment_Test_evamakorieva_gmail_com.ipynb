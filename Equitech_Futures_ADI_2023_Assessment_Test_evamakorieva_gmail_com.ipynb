{
  "nbformat": 4,
  "nbformat_minor": 0,
  "metadata": {
    "colab": {
      "provenance": [],
      "toc_visible": true,
      "include_colab_link": true
    },
    "kernelspec": {
      "name": "python3",
      "display_name": "Python 3"
    },
    "language_info": {
      "name": "python"
    }
  },
  "cells": [
    {
      "cell_type": "markdown",
      "metadata": {
        "id": "view-in-github",
        "colab_type": "text"
      },
      "source": [
        "<a href=\"https://colab.research.google.com/github/evansmakori/Working_With_APIs_PYTHON/blob/main/Equitech_Futures_ADI_2023_Assessment_Test_evamakorieva_gmail_com.ipynb\" target=\"_parent\"><img src=\"https://colab.research.google.com/assets/colab-badge.svg\" alt=\"Open In Colab\"/></a>"
      ]
    },
    {
      "cell_type": "markdown",
      "source": [
        "# Equitech Futures - Applied Data Institute 2023 Assessment Test"
      ],
      "metadata": {
        "id": "5lBc7U-mWQ-p"
      }
    },
    {
      "cell_type": "markdown",
      "source": [
        "Hello! The goal of this notebook is to assess your fluency in programming in Python. The assessment is **open-book**: you are free to use any resource you wish while tackling these problems. Access to this notebook will last for **24 hours** from the moment it was shared, after which you will no longer be able to edit the notebook, and your test will be considered submitted.\n",
        "\n",
        "The notebook is split into two sets of problems:\n",
        "\n",
        "*   **Core Problems** that assess basic skills in Python and core libraries. Please do your best to complete this section fully, to the best of your ability.\n",
        "*   **Challenge Problems** that assess your willingness to think hard and tackle tough problems. Here, we are less concerned about the right answer, and more concerned about seeing your thinking. Please attempt **at least two** of the challenge problems, but the more the better!\n",
        "\n",
        "\n",
        "---\n",
        "\n",
        "Note: Please **DO NOT** change the name of the notebook, function names or function signature. Keeping these consistent helps us track your application.\n",
        "\n",
        "---"
      ],
      "metadata": {
        "id": "ArBWTFwzJXa3"
      }
    },
    {
      "cell_type": "markdown",
      "source": [
        "For this pre-screening assessment, you will likely need the following packages:"
      ],
      "metadata": {
        "id": "xwlxtzPuJGJF"
      }
    },
    {
      "cell_type": "code",
      "source": [
        "import numpy as np\n",
        "import pandas as pd\n",
        "import matplotlib.pyplot as plt"
      ],
      "metadata": {
        "id": "fn-28z0aTcER"
      },
      "execution_count": 1,
      "outputs": []
    },
    {
      "cell_type": "markdown",
      "source": [
        "# Core Problems"
      ],
      "metadata": {
        "id": "MoZsw5LSoB3J"
      }
    },
    {
      "cell_type": "markdown",
      "source": [
        "## 1\n",
        "\n",
        "One of the simplest ways you can encrypt a message is by rearranging the letters: one can imagine taking a string and rearranging it so that the letters at even indexes appear first, followed by the ones at odd indexes. So, for example, `'message'` will become `'msaeesg'` (remember Python counts from zero!).\n",
        "\n",
        "Write a function that does this even-then-odd encryption:"
      ],
      "metadata": {
        "id": "owWxuZRVTnrW"
      }
    },
    {
      "cell_type": "code",
      "source": [
        "def even_odd_encrypt(message):\n",
        "    # write your code here\n",
        "    even_chars = message [::2]\n",
        "    odd_chars = message [1::2]\n",
        "    encrypted_message = even_chars + odd_chars\n",
        "    return encrypted_message\n",
        "\n",
        "even_odd_encrypt('message')"
      ],
      "metadata": {
        "id": "hBXDQg0GJyUP",
        "colab": {
          "base_uri": "https://localhost:8080/",
          "height": 36
        },
        "outputId": "f1fb1862-130a-4218-8223-cde149524877"
      },
      "execution_count": 2,
      "outputs": [
        {
          "output_type": "execute_result",
          "data": {
            "text/plain": [
              "'msaeesg'"
            ],
            "application/vnd.google.colaboratory.intrinsic+json": {
              "type": "string"
            }
          },
          "metadata": {},
          "execution_count": 2
        }
      ]
    },
    {
      "cell_type": "markdown",
      "source": [
        "## 2\n",
        "\n",
        "Now that we can encrypt messages using the even-then-odd technique, implement the function `even_odd_decrypt` that does the corresponding decryption, i.e. takes `'msaeesg'` and spits out `'message'`:"
      ],
      "metadata": {
        "id": "6PwobDGUJ8CT"
      }
    },
    {
      "cell_type": "code",
      "source": [
        "def even_odd_decrypt(encrypted_message):\n",
        "    # write your code here\n",
        "    half_length = len(encrypted_message) // 2\n",
        "    even_chars = encrypted_message[:half_length]\n",
        "    odd_chars = encrypted_message[half_length:]\n",
        "\n",
        "    decrypted_message = ''.join(e + o for e, o in zip(even_chars, odd_chars))\n",
        "    if len(even_chars) < len(odd_chars):\n",
        "        decrypted_message += odd_chars[-1]\n",
        "\n",
        "    return decrypted_message\n",
        "encrypted_message = \"msaeesg\"\n",
        "decrypted_message = even_odd_decrypt(encrypted_message)\n",
        "print(decrypted_message)"
      ],
      "metadata": {
        "id": "xbltOOMaKWHb",
        "colab": {
          "base_uri": "https://localhost:8080/"
        },
        "outputId": "bcbc5083-3e94-4230-aec8-df2e687e3daa"
      },
      "execution_count": 9,
      "outputs": [
        {
          "output_type": "stream",
          "name": "stdout",
          "text": [
            "meseasg\n"
          ]
        }
      ]
    },
    {
      "cell_type": "markdown",
      "source": [
        "## 3\n",
        "\n",
        "Below, you will find data for the final exam scores of 60 students in an undergraduate class on econometrics:\n",
        "\n",
        "| exam score | # of students who attained this score |\n",
        "|------------|-------|\n",
        "| 64         | 2     |\n",
        "| 65         | 7     |\n",
        "| 66         | 7     |\n",
        "| 67         | 6     |\n",
        "| 68         | 4     |\n",
        "| 69         | 7     |\n",
        "| 70         | 6     |\n",
        "| 71         | 5     |\n",
        "| 73         | 1     |\n",
        "| 75         | 1     |\n",
        "| 76         | 2     |\n",
        "| 77         | 5     |\n",
        "| 78         | 4     |\n",
        "| 80         | 1     |\n",
        "\n",
        "We call this type of table a frequency table, because the first column contains the unique values in the dataset, and the second column tells you how often these unique values occur. You will see below that the two columns of the above table can be stored in 2 NumPy arrays called `exam_scores` & `number_of_students`.\n",
        "\n",
        "Write a function that takes 2 NumPy arrays `values` & `counts` as input (corresponding to the unique values in a dataset and their corresponding frequencies) & returns the mean, median and mode of the dataset in a tuple:\n",
        "\n",
        "**If the mode is not unique, your function should output the first mode that occurs in the array.**"
      ],
      "metadata": {
        "id": "vf10GOWVKrsl"
      }
    },
    {
      "cell_type": "code",
      "source": [
        "def measure_central(values: list, counts: list):\n",
        "    total_students = sum(counts)\n",
        "\n",
        "    # Calculate the mean\n",
        "    mean = sum(val * count for val, count in zip(values, counts)) / total_students\n",
        "\n",
        "    # Calculate the median\n",
        "    cumulative_counts = [sum(counts[:i + 1]) for i in range(len(counts))]\n",
        "    median_index = next(i for i, cumulative_count in enumerate(cumulative_counts) if cumulative_count >= total_students // 2)\n",
        "    median = values[median_index]\n",
        "\n",
        "    # Calculate the mode\n",
        "    mode_index = counts.index(max(counts))\n",
        "    mode = values[mode_index]\n",
        "\n",
        "    return mean, median, mode\n",
        "\n",
        "exam_scores = [64, 65, 66, 67, 68, 69, 70, 71, 73, 75, 76, 77, 78, 80]\n",
        "number_of_students = [2, 7, 9, 6, 4, 7, 6, 5, 1, 1, 2, 5, 4, 1]\n",
        "mean, median, mode = measure_central(exam_scores, number_of_students)\n",
        "print(\"Mean:\", mean)\n",
        "print(\"Median:\", median)\n",
        "print(\"Mode:\", mode)"
      ],
      "metadata": {
        "id": "3IpJw99nP8J3",
        "colab": {
          "base_uri": "https://localhost:8080/"
        },
        "outputId": "51710b94-559c-4058-dc0b-bb3c90aae61d"
      },
      "execution_count": 10,
      "outputs": [
        {
          "output_type": "stream",
          "name": "stdout",
          "text": [
            "Mean: 69.76666666666667\n",
            "Median: 69\n",
            "Mode: 66\n"
          ]
        }
      ]
    },
    {
      "cell_type": "markdown",
      "source": [
        "## 4\n",
        "\n",
        "[Below](#scrollTo=deDcuuq5UZy3) you will find a Pandas DataFrame called `dataset` which contains a list of five-letter words in English.\n",
        "\n",
        "\n",
        "Implement the function `letter_statistics()` that takes the following as input:\n",
        "\n",
        "*   a Pandas DataFrame containing 5-letter English words.\n",
        "*   an integer `n` that takes values between 0 and 4, indicating the $n$-th letter in the word.\n",
        "\n",
        "and outputs a string representation of a DataFrame indicating which percentage of words in the list have the letters 'a' through 'z' in the $n$-th position.\n",
        "\n",
        "The DataFrame you output as a string should have 26 rows, with the index being the 26 letters of the English alphabet (in alphabetical order). The column with the percentage of words containing that letter at the $n$-th position, should be formatted such that it prints with just 1 digit after the decimal point. For example, the output for `letter_statistics(dataset, 2)` should look like:\n",
        "\n",
        "\n",
        "\n",
        "             %\n",
        "    letter    \n",
        "    a      9.5\n",
        "    b      2.6\n",
        "    c      3.0\n",
        "    d      3.0\n",
        "    e      6.8\n",
        "    f      1.4\n",
        "    g      2.8\n",
        "    h      0.9\n",
        "    i      8.1\n",
        "    j      0.4\n",
        "    k      2.1\n",
        "    l      6.5\n",
        "    m      3.9\n",
        "    n      7.4\n",
        "    o      7.7\n",
        "    p      2.8\n",
        "    q      0.1\n",
        "    r      9.2\n",
        "    s      4.1\n",
        "    t      4.7\n",
        "    u      5.1\n",
        "    v      1.9\n",
        "    w      2.1\n",
        "    x      1.0\n",
        "    y      1.6\n",
        "    z      1.1\n"
      ],
      "metadata": {
        "id": "PJglPSjmTdI2"
      }
    },
    {
      "cell_type": "code",
      "source": [
        "import pandas as pd\n",
        "import numpy as np\n",
        "import requests\n",
        "import seaborn as sns\n",
        "import io\n",
        "import matplotlib.pyplot as plt\n",
        "\n",
        "url = \"https://raw.githubusercontent.com/deedy/wordle-solver/main/data/official_wordle_all.txt\"\n",
        "response = requests.get(url).content\n",
        "dataset = pd.read_csv(io.StringIO(response.decode('utf-8')), header=None, names=['word'])\n"
      ],
      "metadata": {
        "id": "deDcuuq5UZy3"
      },
      "execution_count": 17,
      "outputs": []
    },
    {
      "cell_type": "code",
      "source": [
        "def letter_statistics(df, n: int):\n",
        "    \"\"\"\n",
        "    Returns the letter statistic at n-th position of each word in the input dataframe.\n",
        "\n",
        "    Args:\n",
        "    df : Pandas Dataframe containing 5-letter english words.\n",
        "    n  : Position in the word for which we need to compute the statistic.\n",
        "\n",
        "    Returns:\n",
        "    Pandas Dataframe with two columns \"letter\" and \"%\"\n",
        "    \"\"\"\n",
        "    # Select the n-th letter from each word\n",
        "    selected_letters = df['word'].apply(lambda word: word[n])\n",
        "\n",
        "    # Calculate the total number of words\n",
        "    total_words = len(selected_letters)\n",
        "\n",
        "    # Calculate the letter frequencies\n",
        "    letter_counts = selected_letters.value_counts().sort_index()\n",
        "\n",
        "    # Calculate the percentage of words for each letter\n",
        "    letter_percentages = (letter_counts / total_words) * 100\n",
        "\n",
        "    # Create a DataFrame with the results\n",
        "    result_df = pd.DataFrame({'%': letter_percentages})\n",
        "    result_df.index.name = 'letter'\n",
        "\n",
        "    return result_df\n",
        "\n",
        "# Calculate and display letter statistics for the 2nd position (index 1)\n",
        "n = 1\n",
        "result = letter_statistics(dataset, n)\n",
        "print(result)"
      ],
      "metadata": {
        "id": "rmzIUkXPZ3gQ",
        "colab": {
          "base_uri": "https://localhost:8080/"
        },
        "outputId": "8cf5bf5a-ac4f-468b-f3a7-13e949082e03"
      },
      "execution_count": 12,
      "outputs": [
        {
          "output_type": "stream",
          "name": "stdout",
          "text": [
            "                %\n",
            "letter           \n",
            "a       17.445267\n",
            "b        0.624422\n",
            "c        1.356768\n",
            "d        0.647549\n",
            "e       12.550108\n",
            "f        0.185014\n",
            "g        0.585877\n",
            "h        4.209066\n",
            "i       10.661425\n",
            "j        0.084798\n",
            "k        0.732347\n",
            "l        5.388529\n",
            "m        1.449275\n",
            "n        2.659574\n",
            "o       16.157879\n",
            "p        1.780759\n",
            "q        0.115634\n",
            "r        7.246377\n",
            "s        0.716929\n",
            "t        1.842430\n",
            "u        9.150478\n",
            "v        0.400863\n",
            "w        1.256553\n",
            "x        0.439408\n",
            "y        2.089115\n",
            "z        0.223558\n"
          ]
        }
      ]
    },
    {
      "cell_type": "markdown",
      "source": [
        "## 5\n",
        "\n",
        "As a continuation of [Core Problem #4](#scrollTo=PJglPSjmTdI2), implement the function `letter_jointplot()` that takes as input\n",
        "\n",
        "*   a Pandas DataFrame containing 5-letter English words\n",
        "*   a tuple `pair` $(n,m)$ indicating the $n$-th & $m$-th position in the word,\n",
        "\n",
        "and generates a [`sns.jointplot`](https://seaborn.pydata.org/generated/seaborn.jointplot.html) visualizing the relative frequencies of different combinations of letters at the chosen two positions. The plot must contain a 2-D histogram (or heatmap) on the bivariate graph & two 1-D histograms on each of the marginal univariate graphs.\n",
        "\n",
        "As an example, the plot generated for `letter_jointplot(dataset, (0,1))` should look like:\n",
        "\n",
        "![sns_jointplot_letterfreq.png](data:image/png;base64,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)\n",
        "\n",
        "\n",
        "\n"
      ],
      "metadata": {
        "id": "G6URKxPrfJcL"
      }
    },
    {
      "cell_type": "code",
      "source": [
        "def letter_jointplot(df, pair: tuple):\n",
        "    \"\"\"\n",
        "    Generates a sns.jointplot visualizing the relative frequencies of different combinations of letters at the chosen two positions.\n",
        "\n",
        "    Args:\n",
        "    df : Pandas Dataframe containing 5-letter english words.\n",
        "    pair: Tuple containing the n-th and m-th positions for which to generate the joint plot.\n",
        "\n",
        "    Returns:\n",
        "    None\n",
        "    \"\"\"\n",
        "    n, m = pair\n",
        "\n",
        "    # Map letters to numeric values\n",
        "    letter_to_numeric = {letter: i for i, letter in enumerate(sorted(df['word'].apply(lambda word: word[n]).unique()))}\n",
        "    df['Letter_n'] = df['word'].apply(lambda word: letter_to_numeric[word[n]])\n",
        "    df['Letter_m'] = df['word'].apply(lambda word: letter_to_numeric[word[m]])\n",
        "\n",
        "    # Calculate the total number of pairs\n",
        "    total_pairs = len(df)\n",
        "\n",
        "    # Calculate the letter pair frequencies\n",
        "    letter_pair_counts = df.groupby(['Letter_n', 'Letter_m']).size().reset_index(name='Counts')\n",
        "\n",
        "    # Calculate the relative frequencies\n",
        "    letter_pair_counts['Relative Frequency'] = letter_pair_counts['Counts'] / total_pairs\n",
        "\n",
        "    # Create the jointplot\n",
        "    sns.set(style=\"white\", color_codes=True)\n",
        "    g = sns.jointplot(data=letter_pair_counts, x='Letter_n', y='Letter_m', kind=\"hex\")\n",
        "\n",
        "    plt.show()\n",
        "\n",
        "# Generate and display the joint plot for positions (0, 1)\n",
        "pair = (0, 1)\n",
        "letter_jointplot(dataset, pair)"
      ],
      "metadata": {
        "id": "jbfSadRzgFrP",
        "colab": {
          "base_uri": "https://localhost:8080/",
          "height": 601
        },
        "outputId": "2d8947f9-40dc-4d61-ac92-f58e1deb2aa2"
      },
      "execution_count": 19,
      "outputs": [
        {
          "output_type": "display_data",
          "data": {
            "text/plain": [
              "<Figure size 600x600 with 3 Axes>"
            ],
            "image/png": "[encoded data removed]"
          },
          "metadata": {}
        }
      ]
    },
    {
      "cell_type": "markdown",
      "source": [
        "# Challenge Problems"
      ],
      "metadata": {
        "id": "12mxoU-rucVw"
      }
    },
    {
      "cell_type": "markdown",
      "source": [
        "## 1\n",
        "\n",
        "Columns in spreadsheet programs like *Microsoft Excel*, *Google Sheets* and *LibreOffice Calc* are not labeled using numbers the way we're familiar with. They're instead labeled using strings of capital letters. So that means:\n",
        "\n",
        "    Column 1 is A\n",
        "    Column 2 is B\n",
        "    Column 3 is C\n",
        "    Column 4 is D\n",
        "    ...\n",
        "    Column 26 is Z\n",
        "    Column 27 is AA\n",
        "    ...\n",
        "    Column 52 is AZ\n",
        "    Column 53 is BA\n",
        "    ...\n",
        "    Column 702 is ZZ\n",
        "    Column 703 is AAA\n",
        "    ...\n",
        "\n",
        "Implement the function `column_string()` that takes as input the column number as an integer and outputs the corresponding column label as a string in spreadsheet convention. **Here we will use the convention that the first column is 1, not 0 as is typical in Python** The function should work for arbitrarily large numbers, and **run efficiently**. So for the following inputs, the function should output:\n",
        "\n",
        "* `column_string(5)` = `'E'`\n",
        "* `column_string(68)` = `'BP'`\n",
        "* `column_string(2021247)` = `'DJYZG'`\n",
        "* `column_string(45664595738)` = `'EQUITECH'`\n",
        "\n",
        "---\n",
        "\n",
        "**Hint:** This problem looks easier than it is. You might come to a solution that works for most inputs, but fails for some. Think carefully about which input numbers might cause this type of failure -- identifying the commonality among these failures will be the key to debugging and getting to a correct solution.\n",
        "\n",
        "---"
      ],
      "metadata": {
        "id": "MuLhiisf418_"
      }
    },
    {
      "cell_type": "code",
      "source": [
        "import string\n",
        "\n",
        "def column_string(num: int):\n",
        "    letters = string.ascii_uppercase  # A, B, ..., Z\n",
        "    result = []\n",
        "\n",
        "    while num > 0:\n",
        "        num -= 1  # Adjusting for 1-based indexing\n",
        "        remainder = num % 26\n",
        "        result.append(letters[remainder])\n",
        "        num //= 26\n",
        "\n",
        "    result.reverse()\n",
        "    return ''.join(result)\n",
        "\n",
        "# Test cases\n",
        "print(column_string(5))              # Output: 'E'\n",
        "print(column_string(68))             # Output: 'BP'\n",
        "print(column_string(2021247))        # Output: 'DJYZG'\n",
        "print(column_string(45664595738))    # Output: 'EQUITECH'\n"
      ],
      "metadata": {
        "id": "VBXraAVb6Gf-",
        "colab": {
          "base_uri": "https://localhost:8080/"
        },
        "outputId": "07a05677-9a97-4ab3-e921-a6556b4b5424"
      },
      "execution_count": 21,
      "outputs": [
        {
          "output_type": "stream",
          "name": "stdout",
          "text": [
            "E\n",
            "BP\n",
            "DJYZG\n",
            "EQUITECH\n"
          ]
        }
      ]
    },
    {
      "cell_type": "markdown",
      "source": [
        "## 2\n",
        "\n",
        "Let's revisit the encryption problem from the beginning ([Core Problem #1](#scrollTo=owWxuZRVTnrW)).\n",
        "\n",
        "We can actually go beyond even-then-odd type encryption. Suppose we have the string `'I_love_to_program!'`. Instead of even and odd, we could group the characters into 3:\n",
        "\n",
        "* The first group with indexes 0,3,6,9, ...\n",
        "* The next group with indexes 1,4,7,10,...\n",
        "* And the final group with indexes 2,5,8,11,...\n",
        "\n",
        "So for `'I_love_to_program!'` the groups would be `'Io__oa'` , `'_vtpgm'` , `'leorr!'`, yielding the encrypted message `'Io__oa_vtpgmleorr!'`.\n",
        "\n",
        "And we're not limited to steps of 2 in the case of even/odd, or steps of 3 like in the example above. We can have any step size $n \\geq 2$ to define our groups of indices.\n",
        "\n",
        "Implement the function `n_step_encrypt(phrase, n)` below that does this type of encryption for any arbitrary step-size $n \\geq 2$:"
      ],
      "metadata": {
        "id": "WmqlGX2vuezl"
      }
    },
    {
      "cell_type": "code",
      "source": [
        "def n_step_encrypt(phrase: str, n: int):\n",
        "    groups = [''] * n  # Initialize empty groups\n",
        "\n",
        "    for i, char in enumerate(phrase):\n",
        "        group_index = i % n\n",
        "        groups[group_index] += char\n",
        "\n",
        "    encrypted_message = ''.join(groups)\n",
        "    return encrypted_message\n",
        "\n",
        "# Test\n",
        "encrypted = n_step_encrypt('I_love_to_program!', 3)\n",
        "print(encrypted)  # Output: 'Io__oa_vtpgmleorr!'\n",
        "#  you can also adjust n parameter to see how the encryption works for different step sizes"
      ],
      "metadata": {
        "id": "M6QWCGYFuvWz",
        "colab": {
          "base_uri": "https://localhost:8080/"
        },
        "outputId": "4ea2a5de-9b6d-47a9-8033-378f1cb5288c"
      },
      "execution_count": 22,
      "outputs": [
        {
          "output_type": "stream",
          "name": "stdout",
          "text": [
            "Io__oa_vtpgmleorr!\n"
          ]
        }
      ]
    },
    {
      "cell_type": "markdown",
      "source": [
        "## 3\n",
        "\n",
        "Now implement the `n_step_decrypt` function that does the corresponding decryption for any arbitrary step-size $n \\geq 2$. For example, for $n$ = 3, the function should take `'Io__oa_vtpgmleorr!'` and return `'I_love_to_program!'`:"
      ],
      "metadata": {
        "id": "hHA07oehxY-M"
      }
    },
    {
      "cell_type": "code",
      "source": [
        "def n_step_decrypt(phrase: str, n: int):\n",
        "    decrypted = [''] * len(phrase)\n",
        "    # Calculate the size of each group\n",
        "    group_size = (len(phrase) + n - 1) // n\n",
        "\n",
        "\n",
        "    for i, char in enumerate(phrase):\n",
        "        group_index = i % group_size\n",
        "        position_in_group = i // group_size\n",
        "        decrypted[group_index * n + position_in_group] = char\n",
        "\n",
        "    original_message = ''.join(decrypted)\n",
        "    return original_message\n",
        "\n",
        "decrypted = n_step_decrypt('Io__oa_vtpgmleorr!', 3)\n",
        "print(decrypted)  # Output: 'I_love_to_program!'\n"
      ],
      "metadata": {
        "id": "WDHn5-t7uxnP",
        "colab": {
          "base_uri": "https://localhost:8080/"
        },
        "outputId": "22979602-0cde-4d8f-ee3a-ca0d5bf6a115"
      },
      "execution_count": 27,
      "outputs": [
        {
          "output_type": "stream",
          "name": "stdout",
          "text": [
            "I_love_to_program!\n"
          ]
        }
      ]
    },
    {
      "cell_type": "markdown",
      "source": [
        "## 4\n",
        "\n",
        "You & your cousin are playing a game with your grandmother, who is very fond of riddles. Your grandmother says to you that in order to have ice cream, you will need to outsmart her in a game.\n",
        "\n",
        "Your grandmother pulls out a chessboard where each square is covered by a coin — either heads or tails. Moreover, it’s a special chess board with a hidden compartment in each square. A single one of these squares contains a symbolic ticket that gets both you and your cousin unlimited ice cream for a month. You will get to see where the ticket is, but your cousin will have to guess.\n",
        "\n",
        "The rules are as follows:\n",
        "\n",
        "1. You and your cousin can discuss how to encode a message using the chessboard, but your grandmother can hear and understand everything that they say.\n",
        "2. Once you have decided on a system, your cousin will leave the room.\n",
        "3. You observe your grandma hiding the ticket in one square and then arranging the 64 coins as heads or tails however she sees fit — presumably trying to frustrate your system.\n",
        "4. You then turn over exactly one coin on the chess board and leave the room.\n",
        "5. Your cousin re-enters the room, without having any opportunity to see or communicate with you. Your cousin then observes the chessboard and the arrangement of coins and points to the square where they believe the ticket is.\n",
        "6. This is a pure logic problem - there is no meta game, and the solution requires nothing sneaky.\n",
        "\n",
        "-------------------------------------------------------------------------------\n",
        "\n",
        "[Below](#scrollTo=ENdAdbBoueWu) you will find a code cell that creates a class `Chessboard` with two attributes:\n",
        "\n",
        "*   An 8x8 Boolean array $x$, indicating whether a coin at a given position on the board is Tails or Heads.\n",
        "*   An 8x8 integer array, containing the numbers 0 through 63, representing the position labels for each square of the chessboard.\n",
        "\n",
        "Implement the method `encode()` in the `Chessboard` class defined below that takes as input the position of the ticket (some number between 0 and 63) on the chessboard and accordingly flips exactly one coin on the chessboard.\n"
      ],
      "metadata": {
        "id": "24VwC5Yxuhz6"
      }
    },
    {
      "cell_type": "markdown",
      "source": [
        "## 5\n",
        "\n",
        "As a continuation of [Challenge Problem #4](#scrollTo=24VwC5Yxuhz6), implement the class method `decode()` that \"reads\" the coins on the board and returns the position of the ticket."
      ],
      "metadata": {
        "id": "pgiBhNoU4Iuk"
      }
    },
    {
      "cell_type": "code",
      "source": [
        "class Chessboard:\n",
        "\n",
        "    def __init__(self):\n",
        "        \"\"\" Creating an instance of the Chessboard class \"\"\"\n",
        "\n",
        "        # Grandmother sets the chessboard in an arbitrary configuration,\n",
        "        # in an effort to frustrate your system.\n",
        "        # True if Tails, False if Heads\n",
        "        self.x = np.random.choice(a=[True, False], size=(8, 8), p=[0.5, 0.5])\n",
        "\n",
        "        # We label the squares of the chessboard from 0 to 63\n",
        "        self.labels = np.reshape(np.arange(64), (8, 8))\n",
        "\n",
        "    def encode(self, pos: int):\n",
        "        \"\"\"Flip the coin based on the position of the ticket\"\"\"\n",
        "\n",
        "        # Convert position to row and column\n",
        "        row = pos // 8\n",
        "        col = pos % 8\n",
        "\n",
        "        # Flip the coin\n",
        "        self.x[row, col] = not self.x[row, col]\n",
        "\n",
        "    def decode(self):\n",
        "\n",
        "        # Calculate the parity of each row and column\n",
        "        row_parity = np.sum(self.x, axis=1) % 2\n",
        "        col_parity = np.sum(self.x, axis=0) % 2\n",
        "\n",
        "        # Convert parity arrays to binary strings and concatenate\n",
        "        row_parity_str = ''.join(map(str, row_parity))\n",
        "        col_parity_str = ''.join(map(str, col_parity))\n",
        "        full_parity_str = row_parity_str + col_parity_str\n",
        "\n",
        "        # Convert binary parity string to decimal\n",
        "        ticket_position = int(full_parity_str, 2)\n",
        "\n",
        "        return ticket_position\n",
        "\n",
        "# Create an instance of the Chessboard class\n",
        "chessboard = Chessboard()\n",
        "\n",
        "# Generate a random position for the ticket\n",
        "ticket_position = np.random.randint(0, 64)\n",
        "\n",
        "print(\"Random Ticket Position:\", ticket_position)\n",
        "\n",
        "# Encode the ticket position\n",
        "chessboard.encode(ticket_position)\n",
        "\n",
        "# Decode and retrieve the ticket position\n",
        "decoded_ticket_position = chessboard.decode()\n",
        "\n",
        "print(\"Decoded Ticket Position:\", decoded_ticket_position)\n",
        "\n"
      ],
      "metadata": {
        "id": "ENdAdbBoueWu",
        "colab": {
          "base_uri": "https://localhost:8080/"
        },
        "outputId": "bd353013-c894-4319-c709-2bc0370bbf33"
      },
      "execution_count": 26,
      "outputs": [
        {
          "output_type": "stream",
          "name": "stdout",
          "text": [
            "Random Ticket Position: 43\n",
            "Decoded Ticket Position: 24066\n"
          ]
        }
      ]
    },
    {
      "cell_type": "code",
      "source": [],
      "metadata": {
        "id": "CKiFVQiKqyIW"
      },
      "execution_count": null,
      "outputs": []
    }
  ]
}