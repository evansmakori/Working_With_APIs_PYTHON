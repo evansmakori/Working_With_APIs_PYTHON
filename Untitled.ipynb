{
 "cells": [
  {
   "cell_type": "markdown",
   "id": "2899ec78-e7c3-44db-b6ee-ab8d24c5a998",
   "metadata": {},
   "source": [
    "# Accessing data from data.wa.gov for demonstration purposes."
   ]
  },
  {
   "cell_type": "markdown",
   "id": "6195de9f-7078-42f7-a22b-896eae228828",
   "metadata": {},
   "source": [
    "I want to pull json data from the web and work with it "
   ]
  },
  {
   "cell_type": "code",
   "execution_count": 14,
   "id": "6bc161d8-c9b9-4382-8b3f-65ee5fcf4b14",
   "metadata": {},
   "outputs": [
    {
     "name": "stdout",
     "output_type": "stream",
     "text": [
      "url type: <class 'str'>\n"
     ]
    },
    {
     "data": {
      "text/plain": [
       "'https://data.wa.gov/api/views/f6w7-q2d2/rows.json'"
      ]
     },
     "execution_count": 14,
     "metadata": {},
     "output_type": "execute_result"
    }
   ],
   "source": [
    "# Import Libraries\n",
    "import pandas as pd\n",
    "import requests\n",
    "\n",
    "\n",
    "url = \"https://data.wa.gov/api/views/f6w7-q2d2/rows.json\"\n",
    "params = {\"accessType\": \"DOWNLOAD\"}\n",
    "response = requests.get(url, params=params)\n",
    "\n",
    "print(\"url type:\", type(url))\n",
    "url"
   ]
  },
  {
   "cell_type": "code",
   "execution_count": null,
   "id": "1e049a7b-971a-4fec-b430-ab7d19623f41",
   "metadata": {},
   "outputs": [],
   "source": [
    "# Use `dir` on your `response`\n",
    "dir(response)"
   ]
  },
  {
   "cell_type": "code",
   "execution_count": null,
   "id": "7e7712f9-c99b-439d-b053-fca28fb6df85",
   "metadata": {},
   "outputs": [],
   "source": [
    "response_code = response.status_code\n",
    "\n",
    "print(\"code type:\", type(response_code))\n",
    "response_code"
   ]
  },
  {
   "cell_type": "code",
   "execution_count": null,
   "id": "ab2dd1ab-024b-45d4-9529-f3cf62479986",
   "metadata": {},
   "outputs": [],
   "source": [
    "response_text = response.text\n",
    "\n",
    "print(\"response_text type:\", type(response_text))\n",
    "print(response_text[:200])"
   ]
  },
  {
   "cell_type": "code",
   "execution_count": null,
   "id": "30d870ec-5da9-4d9b-b810-a49d0db83cce",
   "metadata": {},
   "outputs": [],
   "source": [
    "response_data = response.json()\n",
    "\n",
    "print(\"response_data type:\", type(response_data))"
   ]
  },
  {
   "cell_type": "code",
   "execution_count": null,
   "id": "89c9b38b-0e01-4579-924e-99ad268f8f73",
   "metadata": {},
   "outputs": [],
   "source": [
    "response_data = response.json()\n",
    "\n",
    "print(\"response_data type:\", type(response_data))"
   ]
  },
  {
   "cell_type": "code",
   "execution_count": null,
   "id": "aff93f30-bc6a-4521-8405-37ab9ba5813d",
   "metadata": {},
   "outputs": [],
   "source": [
    "# Print `response_data` keys\n",
    "response_data.keys()"
   ]
  },
  {
   "cell_type": "code",
   "execution_count": null,
   "id": "513499fb-07c4-4100-b305-c6523590661e",
   "metadata": {},
   "outputs": [],
   "source": [
    "# Extract `\"data\"` value from `response_data`\n",
    "electric_data= response_data[\"data\"]\n",
    "\n",
    "print(\"electric_data type:\", type(electric_data))\n",
    "\n",
    "# Extract data for one of the days in `stock_data`\n",
    "\n",
    "electric_data"
   ]
  },
  {
   "cell_type": "code",
   "execution_count": 13,
   "id": "42e9aa6b-65c3-46db-a42e-12f4fcb00b15",
   "metadata": {},
   "outputs": [
    {
     "ename": "SyntaxError",
     "evalue": "invalid syntax (800300395.py, line 1)",
     "output_type": "error",
     "traceback": [
      "\u001b[1;36m  Cell \u001b[1;32mIn[13], line 1\u001b[1;36m\u001b[0m\n\u001b[1;33m    df_electricdata = pd.DataFrame.from_list(electric_data, orient=\"index\", dtype=float)`\u001b[0m\n\u001b[1;37m                                                                                        ^\u001b[0m\n\u001b[1;31mSyntaxError\u001b[0m\u001b[1;31m:\u001b[0m invalid syntax\n"
     ]
    }
   ],
   "source": [
    "df_electricdata = pd.DataFrame.from_list(electric_data, orient=\"index\", dtype=float)` \n",
    "\n",
    "print(\"df_electricdata shape:\", df_electricdata.shape)\n",
    "print()\n",
    "print(df_electricdata.info())\n",
    "df_electricdata.head(10)"
   ]
  },
  {
   "cell_type": "code",
   "execution_count": null,
   "id": "37a328c4-dc7c-4321-ad72-ef1d7579fbe6",
   "metadata": {},
   "outputs": [],
   "source": []
  }
 ],
 "metadata": {
  "kernelspec": {
   "display_name": "Python 3 (ipykernel)",
   "language": "python",
   "name": "python3"
  },
  "language_info": {
   "codemirror_mode": {
    "name": "ipython",
    "version": 3
   },
   "file_extension": ".py",
   "mimetype": "text/x-python",
   "name": "python",
   "nbconvert_exporter": "python",
   "pygments_lexer": "ipython3",
   "version": "3.10.9"
  }
 },
 "nbformat": 4,
 "nbformat_minor": 5
}
